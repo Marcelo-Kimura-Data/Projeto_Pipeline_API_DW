{
 "cells": [
  {
   "cell_type": "code",
   "execution_count": 1,
   "id": "bfb6a2c3-df97-4ddb-b233-0addce6b0c91",
   "metadata": {},
   "outputs": [],
   "source": [
    "import pandas as pd\n",
    "from datetime import datetime"
   ]
  },
  {
   "cell_type": "code",
   "execution_count": 2,
   "id": "9b58eca6-4b1b-42b7-a430-c90d0c76a79d",
   "metadata": {},
   "outputs": [],
   "source": [
    "df_gold = pd.read_csv(\"3_silver/silver_cripto_180d.csv\")"
   ]
  },
  {
   "cell_type": "code",
   "execution_count": 3,
   "id": "b3a0fff0-4a9e-4a0f-984f-444ee199818d",
   "metadata": {},
   "outputs": [],
   "source": [
    "# Adicionando colunas com informações de 'data_ingestao' e 'origem_arquivo':\n",
    "\n",
    "data_ingestao = datetime.now().strftime('%Y-%m-%d %H:%M:%S')\n",
    "df_gold['data_ingestao'] = data_ingestao\n",
    "\n",
    "origem_arquivo = f\"silver_cripto_180d.csv\"\n",
    "df_gold['origem_arquivo'] = origem_arquivo"
   ]
  },
  {
   "cell_type": "code",
   "execution_count": 4,
   "id": "6a572aad-b351-43fa-98b1-1d5cafebeab3",
   "metadata": {},
   "outputs": [
    {
     "name": "stdout",
     "output_type": "stream",
     "text": [
      "<class 'pandas.core.frame.DataFrame'>\n",
      "RangeIndex: 1004 entries, 0 to 1003\n",
      "Data columns (total 10 columns):\n",
      " #   Column          Non-Null Count  Dtype  \n",
      "---  ------          --------------  -----  \n",
      " 0   preco_maximo    1004 non-null   float64\n",
      " 1   preco_minimo    1004 non-null   float64\n",
      " 2   variacao_bid    1004 non-null   float64\n",
      " 3   variacao_pct    1004 non-null   float64\n",
      " 4   preco_compra    1004 non-null   float64\n",
      " 5   preco_venda     1004 non-null   float64\n",
      " 6   data_hora       1004 non-null   object \n",
      " 7   moeda           1004 non-null   object \n",
      " 8   data_ingestao   1004 non-null   object \n",
      " 9   origem_arquivo  1004 non-null   object \n",
      "dtypes: float64(6), object(4)\n",
      "memory usage: 78.6+ KB\n"
     ]
    },
    {
     "data": {
      "text/html": [
       "<div>\n",
       "<style scoped>\n",
       "    .dataframe tbody tr th:only-of-type {\n",
       "        vertical-align: middle;\n",
       "    }\n",
       "\n",
       "    .dataframe tbody tr th {\n",
       "        vertical-align: top;\n",
       "    }\n",
       "\n",
       "    .dataframe thead th {\n",
       "        text-align: right;\n",
       "    }\n",
       "</style>\n",
       "<table border=\"1\" class=\"dataframe\">\n",
       "  <thead>\n",
       "    <tr style=\"text-align: right;\">\n",
       "      <th></th>\n",
       "      <th>preco_maximo</th>\n",
       "      <th>preco_minimo</th>\n",
       "      <th>variacao_bid</th>\n",
       "      <th>variacao_pct</th>\n",
       "      <th>preco_compra</th>\n",
       "      <th>preco_venda</th>\n",
       "      <th>data_hora</th>\n",
       "      <th>moeda</th>\n",
       "      <th>data_ingestao</th>\n",
       "      <th>origem_arquivo</th>\n",
       "    </tr>\n",
       "  </thead>\n",
       "  <tbody>\n",
       "    <tr>\n",
       "      <th>0</th>\n",
       "      <td>600175.0</td>\n",
       "      <td>591450.0</td>\n",
       "      <td>4911.0</td>\n",
       "      <td>0.825</td>\n",
       "      <td>600089.0</td>\n",
       "      <td>600090.0</td>\n",
       "      <td>08/06/2025 18:20</td>\n",
       "      <td>BTC-BRL</td>\n",
       "      <td>2025-06-08 15:47:15</td>\n",
       "      <td>silver_cripto_180d.csv</td>\n",
       "    </tr>\n",
       "    <tr>\n",
       "      <th>1</th>\n",
       "      <td>595999.0</td>\n",
       "      <td>584270.0</td>\n",
       "      <td>7445.0</td>\n",
       "      <td>1.269</td>\n",
       "      <td>594061.0</td>\n",
       "      <td>594062.0</td>\n",
       "      <td>07/06/2025 23:59</td>\n",
       "      <td>BTC-BRL</td>\n",
       "      <td>2025-06-08 15:47:15</td>\n",
       "      <td>silver_cripto_180d.csv</td>\n",
       "    </tr>\n",
       "    <tr>\n",
       "      <th>2</th>\n",
       "      <td>593914.0</td>\n",
       "      <td>568693.0</td>\n",
       "      <td>15804.0</td>\n",
       "      <td>2.769</td>\n",
       "      <td>586639.0</td>\n",
       "      <td>586640.0</td>\n",
       "      <td>06/06/2025 23:59</td>\n",
       "      <td>BTC-BRL</td>\n",
       "      <td>2025-06-08 15:47:15</td>\n",
       "      <td>silver_cripto_180d.csv</td>\n",
       "    </tr>\n",
       "    <tr>\n",
       "      <th>3</th>\n",
       "      <td>596717.0</td>\n",
       "      <td>563594.0</td>\n",
       "      <td>-22105.0</td>\n",
       "      <td>-3.728</td>\n",
       "      <td>570835.0</td>\n",
       "      <td>570836.0</td>\n",
       "      <td>05/06/2025 23:59</td>\n",
       "      <td>BTC-BRL</td>\n",
       "      <td>2025-06-08 15:47:15</td>\n",
       "      <td>silver_cripto_180d.csv</td>\n",
       "    </tr>\n",
       "    <tr>\n",
       "      <th>4</th>\n",
       "      <td>600910.0</td>\n",
       "      <td>589040.0</td>\n",
       "      <td>-4640.0</td>\n",
       "      <td>-0.777</td>\n",
       "      <td>592871.0</td>\n",
       "      <td>592872.0</td>\n",
       "      <td>04/06/2025 23:59</td>\n",
       "      <td>BTC-BRL</td>\n",
       "      <td>2025-06-08 15:47:15</td>\n",
       "      <td>silver_cripto_180d.csv</td>\n",
       "    </tr>\n",
       "  </tbody>\n",
       "</table>\n",
       "</div>"
      ],
      "text/plain": [
       "   preco_maximo  preco_minimo  variacao_bid  variacao_pct  preco_compra  \\\n",
       "0      600175.0      591450.0        4911.0         0.825      600089.0   \n",
       "1      595999.0      584270.0        7445.0         1.269      594061.0   \n",
       "2      593914.0      568693.0       15804.0         2.769      586639.0   \n",
       "3      596717.0      563594.0      -22105.0        -3.728      570835.0   \n",
       "4      600910.0      589040.0       -4640.0        -0.777      592871.0   \n",
       "\n",
       "   preco_venda         data_hora    moeda        data_ingestao  \\\n",
       "0     600090.0  08/06/2025 18:20  BTC-BRL  2025-06-08 15:47:15   \n",
       "1     594062.0  07/06/2025 23:59  BTC-BRL  2025-06-08 15:47:15   \n",
       "2     586640.0  06/06/2025 23:59  BTC-BRL  2025-06-08 15:47:15   \n",
       "3     570836.0  05/06/2025 23:59  BTC-BRL  2025-06-08 15:47:15   \n",
       "4     592872.0  04/06/2025 23:59  BTC-BRL  2025-06-08 15:47:15   \n",
       "\n",
       "           origem_arquivo  \n",
       "0  silver_cripto_180d.csv  \n",
       "1  silver_cripto_180d.csv  \n",
       "2  silver_cripto_180d.csv  \n",
       "3  silver_cripto_180d.csv  \n",
       "4  silver_cripto_180d.csv  "
      ]
     },
     "execution_count": 4,
     "metadata": {},
     "output_type": "execute_result"
    }
   ],
   "source": [
    "df_gold.info()\n",
    "df_gold.head()"
   ]
  },
  {
   "cell_type": "code",
   "execution_count": 5,
   "id": "633b7a4f-9794-4d09-b738-4495dc7e0b3b",
   "metadata": {},
   "outputs": [],
   "source": [
    "# Salvando na camada gold\n",
    "\n",
    "df_gold.to_csv(\"4_gold/gold_cripto_180d.csv\", index=False)"
   ]
  }
 ],
 "metadata": {
  "kernelspec": {
   "display_name": "Python [conda env:base] *",
   "language": "python",
   "name": "conda-base-py"
  },
  "language_info": {
   "codemirror_mode": {
    "name": "ipython",
    "version": 3
   },
   "file_extension": ".py",
   "mimetype": "text/x-python",
   "name": "python",
   "nbconvert_exporter": "python",
   "pygments_lexer": "ipython3",
   "version": "3.12.7"
  }
 },
 "nbformat": 4,
 "nbformat_minor": 5
}
